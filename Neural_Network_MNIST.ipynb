{
 "cells": [
  {
   "cell_type": "code",
   "execution_count": 1,
   "id": "19b7da35",
   "metadata": {},
   "outputs": [],
   "source": [
    "from sklearn.preprocessing import OneHotEncoder\n",
    "from sklearn.metrics import accuracy_score, precision_score, recall_score, f1_score\n",
    "from sklearn.model_selection import train_test_split\n",
    "import matplotlib.pyplot as plt\n",
    "import pandas as pd\n",
    "import numpy as np\n",
    "import random\n",
    "import scipy.ndimage"
   ]
  },
  {
   "cell_type": "code",
   "execution_count": 2,
   "id": "280e10a0-99de-4368-9a7d-e9099235c178",
   "metadata": {},
   "outputs": [],
   "source": [
    "initialTrainX = \"train-images.idx3-ubyte\"\n",
    "initialTrainY = \"train-labels.idx1-ubyte\"\n",
    "testX = \"t10k-images.idx3-ubyte\"\n",
    "testY = \"t10k-labels.idx1-ubyte\""
   ]
  },
  {
   "cell_type": "code",
   "execution_count": 3,
   "id": "42583717-885a-450a-acc5-1736d653fc62",
   "metadata": {},
   "outputs": [],
   "source": [
    "def convert(imgs,labels, outfile,n):\n",
    "    imgf = open(imgs,\"rb\")\n",
    "    labelf = open(labels,\"rb\")\n",
    "    csvf = open(outfile,\"w\")\n",
    "\n",
    "    imgf.read(16)\n",
    "    labelf.read(8)\n",
    "    images = []\n",
    "\n",
    "    for i in range(n):\n",
    "        image = [ord(labelf.read(1))]\n",
    "        for j in range(28*28):\n",
    "            image.append(ord(imgf.read(1)))\n",
    "        images.append(image)\n",
    "\n",
    "    for image in images:\n",
    "        csvf.write(\",\".join(str(pix) for pix in image)+\"\\n\")\n",
    "    imgf.close()\n",
    "    labelf.close()\n",
    "    csvf.close()"
   ]
  },
  {
   "cell_type": "code",
   "execution_count": 4,
   "id": "167a1c9d-eb4d-43e3-affb-3835cf162ed1",
   "metadata": {},
   "outputs": [
    {
     "data": {
      "text/plain": [
       "'convert(initial_train_X,initial_train_Y,\"train.csv\",60000)\\nconvert(test_X,test_Y,\"test.csv\",10000)'"
      ]
     },
     "execution_count": 4,
     "metadata": {},
     "output_type": "execute_result"
    }
   ],
   "source": [
    "'''convert(initial_train_X,initial_train_Y,\"train.csv\",60000)\n",
    "convert(test_X,test_Y,\"test.csv\",10000)'''"
   ]
  },
  {
   "cell_type": "code",
   "execution_count": 5,
   "id": "bcdb5f57-6421-41f4-9632-8d7bdce76ecc",
   "metadata": {},
   "outputs": [],
   "source": [
    "xTrain = np.loadtxt('train.csv', delimiter = ',').T\n",
    "yTrain =  xTrain[0, :]\n",
    "yTrain = yTrain.reshape(1,60000)\n",
    "xTrain = np.delete(xTrain, 0, axis=0)"
   ]
  },
  {
   "cell_type": "code",
   "execution_count": 6,
   "id": "28faa66f-d586-42fc-a9b3-a15a4dd780cf",
   "metadata": {},
   "outputs": [],
   "source": [
    "xTest = np.loadtxt('test.csv', delimiter = ',').T\n",
    "yTest =  xTest[0, :]\n",
    "yTest = yTest.reshape(1,10000)\n",
    "xTest = np.delete(xTest, 0, axis=0)"
   ]
  },
  {
   "cell_type": "code",
   "execution_count": 7,
   "id": "ab67fa7f",
   "metadata": {},
   "outputs": [],
   "source": [
    "encoder = OneHotEncoder()\n",
    "encoded = encoder.fit_transform(yTrain.reshape(-1, 1))\n",
    "yTrain = encoded.toarray().T"
   ]
  },
  {
   "cell_type": "code",
   "execution_count": 8,
   "id": "82d3af0b-4cf0-46db-b5b5-ba5270fcb7a3",
   "metadata": {},
   "outputs": [
    {
     "name": "stdout",
     "output_type": "stream",
     "text": [
      "shape of xTrain : (784, 60000)\n",
      "shape of yTrain : (10, 60000)\n"
     ]
    }
   ],
   "source": [
    "print(\"shape of xTrain :\", xTrain.shape)\n",
    "print(\"shape of yTrain :\", yTrain.shape)"
   ]
  },
  {
   "cell_type": "code",
   "execution_count": 9,
   "id": "2ada4b0a",
   "metadata": {},
   "outputs": [
    {
     "data": {
      "image/png": "[encoded data removed]",
      "text/plain": [
       "<Figure size 640x480 with 1 Axes>"
      ]
     },
     "metadata": {},
     "output_type": "display_data"
    }
   ],
   "source": [
    "plt.imshow(xTrain[:, 2].reshape(28, 28), cmap = 'gray')\n",
    "plt.show()"
   ]
  },
  {
   "cell_type": "code",
   "execution_count": 10,
   "id": "8798aa05-af13-4074-b114-9f26952e37e0",
   "metadata": {},
   "outputs": [],
   "source": [
    "def rotate_image(image, angle):\n",
    "    return scipy.ndimage.rotate(image, angle, reshape=False)\n",
    "\n",
    "def translate_image(image, shift):\n",
    "    return scipy.ndimage.shift(image, shift)\n",
    "\n",
    "def add_noise(image, noise_level):\n",
    "    noise = np.random.normal(scale=noise_level, size=image.shape)\n",
    "    return np.clip(image + noise, 0, 255)\n",
    "\n",
    "rotateX = np.empty((784,20000))\n",
    "translatedX = np.empty((784,20000))\n",
    "noiseAddedX = np.empty((784,20000))\n",
    "\n",
    "for i in range(0,20000):\n",
    "    angle = random.uniform(5,10)\n",
    "    shift = random.uniform(1,3)\n",
    "\n",
    "    rotateX[:,i] =  rotate_image(xTrain [:,i].reshape(28,28),angle).reshape(784)\n",
    "    translatedX[:,i] =  translate_image(xTrain [:,i+20000].reshape(28,28),shift).reshape(784)\n",
    "    noiseAddedX[:,i] =  add_noise(xTrain [:,i+40000].reshape(28,28),10).reshape(784)\n",
    "\n",
    "yLabels = yTrain .copy()\n",
    "\n",
    "xTrain  = np.concatenate((xTrain , rotateX), axis=1)\n",
    "xTrain  = np.concatenate((xTrain , translatedX), axis=1)\n",
    "xTrain  = np.concatenate((xTrain , noiseAddedX), axis=1)\n",
    "yTrain  = np.concatenate((yTrain , yLabels),axis=1)"
   ]
  },
  {
   "cell_type": "code",
   "execution_count": 11,
   "id": "d839d6df-789d-4d88-8618-2139e25137f4",
   "metadata": {},
   "outputs": [],
   "source": [
    "yTest = yTest.ravel()\n",
    "yTest.shape\n",
    "xTest = xTest.T"
   ]
  },
  {
   "cell_type": "code",
   "execution_count": 12,
   "id": "3374ecd9",
   "metadata": {},
   "outputs": [],
   "source": [
    "xTest,xDev,yTest,yDev=train_test_split(xTest,yTest,random_state=1234,test_size=0.5)\n",
    "xTest = xTest.T\n",
    "xDev = xDev.T\n",
    "yTest = yTest.reshape(1,5000)\n",
    "yDev= yDev.reshape(1,5000)"
   ]
  },
  {
   "cell_type": "code",
   "execution_count": 13,
   "id": "dcab9cc1-b0fb-40d2-9a25-4d6e6d0e9074",
   "metadata": {},
   "outputs": [],
   "source": [
    "def tanh(x):\n",
    "    return np.tanh(x)\n",
    "\n",
    "def relu(x):\n",
    "    return np.maximum(x, 0)\n",
    "\n",
    "def softmax(x):\n",
    "    expX = np.exp(x)\n",
    "    return expX/np.sum(expX, axis = 0)"
   ]
  },
  {
   "cell_type": "code",
   "execution_count": 14,
   "id": "78b51810-9638-43ce-a292-fd88c7700027",
   "metadata": {},
   "outputs": [],
   "source": [
    "def derivativeTanh(x):\n",
    "    return (1 - np.power(np.tanh(x), 2))\n",
    "\n",
    "def derivativeRelu(x):\n",
    "    return np.array(x > 0, dtype = np.float32)"
   ]
  },
  {
   "cell_type": "code",
   "execution_count": 15,
   "id": "0ec5228c",
   "metadata": {},
   "outputs": [],
   "source": [
    "def initializeParameters(L0, L1, L2, L3):\n",
    "    w1 = np.random.randn(L1, L0)*0.01\n",
    "    b1 = np.zeros((L1, 1))\n",
    "    \n",
    "    w2 = np.random.randn(L2, L1)*0.01\n",
    "    b2 = np.zeros((L2, 1))\n",
    "\n",
    "    w3 = np.random.randn(L3, L2)*0.01\n",
    "    b3 = np.zeros((L3, 1))\n",
    "    \n",
    "    parameters = {\n",
    "        \"w1\" : w1,\n",
    "        \"b1\" : b1,\n",
    "        \"w2\" : w2,\n",
    "        \"b2\" : b2,\n",
    "        \"w3\" : w3,\n",
    "        \"b3\" : b3,\n",
    "    }\n",
    "    \n",
    "    return parameters"
   ]
  },
  {
   "cell_type": "code",
   "execution_count": 16,
   "id": "bd33c564",
   "metadata": {},
   "outputs": [],
   "source": [
    "def forwardPropagation(x, parameters):\n",
    "    \n",
    "    w1 = parameters['w1']\n",
    "    b1 = parameters['b1']\n",
    "    w2 = parameters['w2']\n",
    "    b2 = parameters['b2']\n",
    "    w3 = parameters['w3']\n",
    "    b3 = parameters['b3']\n",
    "    \n",
    "    z1 = np.dot(w1, x) + b1\n",
    "    a1 = relu(z1)\n",
    "    \n",
    "    z2 = np.dot(w2, a1) + b2\n",
    "    a2 = tanh(z2)\n",
    "\n",
    "    z3 = np.dot(w3,a2) + b3\n",
    "    a3 = softmax(z3)\n",
    "    \n",
    "    cache = {\n",
    "        \"z1\" : z1,\n",
    "        \"a1\" : a1,\n",
    "        \"z2\" : z2,\n",
    "        \"a2\" : a2,\n",
    "        \"z3\" : z3,\n",
    "        \"a3\" : a3\n",
    "    }\n",
    "    \n",
    "    return cache"
   ]
  },
  {
   "cell_type": "code",
   "execution_count": 17,
   "id": "61603dc4",
   "metadata": {},
   "outputs": [],
   "source": [
    "def costF(yPred, y):\n",
    "    m = y.shape[1] \n",
    "    cost = -(1/m)*np.sum(y*np.log(yPred))\n",
    "    \n",
    "    return cost\n"
   ]
  },
  {
   "cell_type": "markdown",
   "id": "23832d5c-0a0c-4787-93a9-51a0b1401303",
   "metadata": {},
   "source": [
    "# Backpropagation\n",
    "\n",
    "$dZ_3 = ( A_3 - Y )$\n",
    "\n",
    "$ dW_3 = \\frac{1}{m}. dZ_3 . A_2^T$\n",
    "\n",
    "$ dB_3 = \\frac{1}{m}.sum(dZ_3, 1)$\n",
    "\n",
    "$dZ_2 = W_3^T . dZ_3 * f_2^|(Z_2) $\n",
    "\n",
    "$dW_2 = \\frac{1}{m}.dZ_2 . A_1^T$\n",
    "\n",
    "$dB_2 = \\frac{1}{m}.sum(dZ_2, 1)$\n",
    "\n",
    "$dZ_1 = W_2^T . dZ_2 * f_1^|(Z_1) $\n",
    "\n",
    "$dW_1 = \\frac{1}{m}.dZ_1.X^T$\n",
    "\n",
    "$dB_1 = \\frac{1}{m}.sum(dZ_1, 1)$"
   ]
  },
  {
   "cell_type": "code",
   "execution_count": 18,
   "id": "4e7992f7",
   "metadata": {},
   "outputs": [],
   "source": [
    "def backwardPropogation(x, y, parameters, cache):\n",
    "    \n",
    "    w3 = parameters['w3']\n",
    "    w2 = parameters['w2']\n",
    "    \n",
    "    a1 = cache['a1']\n",
    "    a2 = cache['a2']\n",
    "    a3 = cache['a3']\n",
    "    \n",
    "    m = x.shape[1]\n",
    "    \n",
    "    dz3 = (a3 - y)\n",
    "    dw3 = (1/m)*np.dot(dz3, a2.T)\n",
    "    db3 = (1/m)*np.sum(dz3, axis = 1, keepdims = True)\n",
    "    \n",
    "    dz2 = (1/m)*np.dot(w3.T, dz3)*derivativeTanh(a2)\n",
    "    dw2 = (1/m)*np.dot(dz2, a1.T)\n",
    "    db2 = (1/m)*np.sum(dz2, axis = 1, keepdims = True)\n",
    "\n",
    "    dz1 = (1/m)*np.dot(w2.T, dz2)*derivativeRelu(a1)\n",
    "    dw1 = (1/m)*np.dot(dz1, x.T)\n",
    "    db1 = (1/m)*np.sum(dz1, axis = 1, keepdims = True)\n",
    "    \n",
    "    gradients = {\n",
    "        \"dw1\" : dw1,\n",
    "        \"db1\" : db1,\n",
    "        \"dw2\" : dw2,\n",
    "        \"db2\" : db2,\n",
    "        \"dw3\" : dw3,\n",
    "        \"db3\" : db3\n",
    "    }\n",
    "    \n",
    "    return gradients"
   ]
  },
  {
   "cell_type": "code",
   "execution_count": 19,
   "id": "3525392b",
   "metadata": {},
   "outputs": [],
   "source": [
    "def updateParameters(parameters, gradients, learningRate):\n",
    "    \n",
    "    w1 = parameters['w1']\n",
    "    b1 = parameters['b1']\n",
    "    w2 = parameters['w2']\n",
    "    b2 = parameters['b2']\n",
    "    w3 = parameters['w3']\n",
    "    b3 = parameters['b3']\n",
    "    \n",
    "    dw1 = gradients['dw1']\n",
    "    db1 = gradients['db1']\n",
    "    dw2 = gradients['dw2']\n",
    "    db2 = gradients['db2']\n",
    "    dw3 = gradients['dw3']\n",
    "    db3 = gradients['db3']\n",
    "    \n",
    "    w1 = w1 - learningRate*dw1\n",
    "    b1 = b1 - learningRate*db1\n",
    "    w2 = w2 - learningRate*dw2\n",
    "    b2 = b2 - learningRate*db2\n",
    "    w3 = w3 - learningRate*dw3\n",
    "    b3 = b3 - learningRate*db3\n",
    "\n",
    "    parameters = {\n",
    "        \"w1\" : w1,\n",
    "        \"b1\" : b1,\n",
    "        \"w2\" : w2,\n",
    "        \"b2\" : b2,\n",
    "        \"w3\" : w3,\n",
    "        \"b3\" : b3\n",
    "    }\n",
    "    \n",
    "    return parameters"
   ]
  },
  {
   "cell_type": "code",
   "execution_count": 20,
   "id": "b7a88f91",
   "metadata": {},
   "outputs": [],
   "source": [
    "def accuracy(inp, labels, parameters):\n",
    "    output = forwardPropagation(inp, parameters)\n",
    "    yPred = output['a3']\n",
    "    yPred = np.argmax(yPred, 0)\n",
    "    labels = np.argmax(labels, 0)\n",
    "    acc = np.mean(yPred == labels)*100\n",
    "    \n",
    "    return acc"
   ]
  },
  {
   "cell_type": "code",
   "execution_count": 21,
   "id": "00076d7c",
   "metadata": {},
   "outputs": [],
   "source": [
    "def model(x, y, L1, L2, learningRate, epochs):\n",
    "    \n",
    "    L0 = x.shape[0]\n",
    "    L3 = y.shape[0]\n",
    "    \n",
    "    cost_list = []\n",
    "    \n",
    "    parameters = initializeParameters(L0, L1, L2 , L3)\n",
    "    \n",
    "    for i in range(epochs):\n",
    "        \n",
    "        cache = forwardPropagation(x, parameters)\n",
    "        \n",
    "        cost = costF(cache['a3'], y)\n",
    "        \n",
    "        gradients = backwardPropogation(x, y, parameters, cache)\n",
    "        \n",
    "        parameters = updateParameters(parameters, gradients, learningRate)\n",
    "        \n",
    "        cost_list.append(cost)\n",
    "        \n",
    "        print(\"Cost after\", i, \"iterations is :\", cost)\n",
    "        \n",
    "    return parameters, cost_list\n"
   ]
  },
  {
   "cell_type": "code",
   "execution_count": 22,
   "id": "1f614440",
   "metadata": {},
   "outputs": [
    {
     "name": "stdout",
     "output_type": "stream",
     "text": [
      "Cost after 0 iterations is : 2.365667028698666\n",
      "Cost after 1 iterations is : 2.070715579419223\n",
      "Cost after 2 iterations is : 2.0446749981477605\n",
      "Cost after 3 iterations is : 2.221708465495003\n",
      "Cost after 4 iterations is : 1.972852419292033\n",
      "Cost after 5 iterations is : 1.8830983800256125\n",
      "Cost after 6 iterations is : 1.4396559921158485\n",
      "Cost after 7 iterations is : 1.7832586872567464\n",
      "Cost after 8 iterations is : 1.3597146491670031\n",
      "Cost after 9 iterations is : 1.6951734440704282\n",
      "Cost after 10 iterations is : 1.5423581311380998\n",
      "Cost after 11 iterations is : 1.445931813494664\n",
      "Cost after 12 iterations is : 1.233012620608577\n",
      "Cost after 13 iterations is : 0.9719097833469632\n",
      "Cost after 14 iterations is : 1.0516138382294982\n",
      "Cost after 15 iterations is : 0.9834110556132657\n",
      "Cost after 16 iterations is : 1.0196215557016244\n",
      "Cost after 17 iterations is : 0.9736774754140872\n",
      "Cost after 18 iterations is : 0.9970650657743342\n",
      "Cost after 19 iterations is : 1.1104787881884381\n",
      "Cost after 20 iterations is : 0.8942199365537967\n",
      "Cost after 21 iterations is : 0.88098493377856\n",
      "Cost after 22 iterations is : 0.8946189958985704\n",
      "Cost after 23 iterations is : 0.9579180261006324\n",
      "Cost after 24 iterations is : 0.8144453014438251\n",
      "Cost after 25 iterations is : 0.8227090844129477\n",
      "Cost after 26 iterations is : 0.7956586923102588\n",
      "Cost after 27 iterations is : 0.8360101231130747\n",
      "Cost after 28 iterations is : 0.7573941374689385\n",
      "Cost after 29 iterations is : 0.7763878522942721\n",
      "Cost after 30 iterations is : 0.7299964258049001\n",
      "Cost after 31 iterations is : 0.7503197337389002\n",
      "Cost after 32 iterations is : 0.7045955063672209\n",
      "Cost after 33 iterations is : 0.7193645109500452\n",
      "Cost after 34 iterations is : 0.6815361115541059\n",
      "Cost after 35 iterations is : 0.6925924979683052\n",
      "Cost after 36 iterations is : 0.6614266976905094\n",
      "Cost after 37 iterations is : 0.6691928932386992\n",
      "Cost after 38 iterations is : 0.644439025953466\n",
      "Cost after 39 iterations is : 0.6493472461164043\n",
      "Cost after 40 iterations is : 0.6310615947652564\n",
      "Cost after 41 iterations is : 0.6334880395503397\n",
      "Cost after 42 iterations is : 0.6218494582762587\n",
      "Cost after 43 iterations is : 0.6221728722432054\n",
      "Cost after 44 iterations is : 0.6167716653702\n",
      "Cost after 45 iterations is : 0.6153746981456027\n",
      "Cost after 46 iterations is : 0.6140880833094884\n",
      "Cost after 47 iterations is : 0.6111889429876233\n",
      "Cost after 48 iterations is : 0.6103212760996253\n",
      "Cost after 49 iterations is : 0.6059900176522195\n",
      "Cost after 50 iterations is : 0.6029367765662733\n",
      "Cost after 51 iterations is : 0.597545643756479\n",
      "Cost after 52 iterations is : 0.5923756718791945\n",
      "Cost after 53 iterations is : 0.5865645462952152\n",
      "Cost after 54 iterations is : 0.5804501773242389\n",
      "Cost after 55 iterations is : 0.574684355160952\n",
      "Cost after 56 iterations is : 0.5685201835669967\n",
      "Cost after 57 iterations is : 0.5630245686836847\n",
      "Cost after 58 iterations is : 0.5572551689822791\n",
      "Cost after 59 iterations is : 0.552130439760542\n",
      "Cost after 60 iterations is : 0.546915677852785\n",
      "Cost after 61 iterations is : 0.54220635769197\n",
      "Cost after 62 iterations is : 0.5375628414722492\n",
      "Cost after 63 iterations is : 0.5332816014610055\n",
      "Cost after 64 iterations is : 0.529164924796081\n",
      "Cost after 65 iterations is : 0.5253023776324507\n",
      "Cost after 66 iterations is : 0.5216488177205654\n",
      "Cost after 67 iterations is : 0.5181799697828395\n",
      "Cost after 68 iterations is : 0.5149252185750192\n",
      "Cost after 69 iterations is : 0.5118150450988964\n",
      "Cost after 70 iterations is : 0.5089011053416692\n",
      "Cost after 71 iterations is : 0.506109349268907\n",
      "Cost after 72 iterations is : 0.5034859225601671\n",
      "Cost after 73 iterations is : 0.500970898838744\n",
      "Cost after 74 iterations is : 0.49859464337523945\n",
      "Cost after 75 iterations is : 0.4963159782763847\n",
      "Cost after 76 iterations is : 0.49414929912381067\n",
      "Cost after 77 iterations is : 0.49206970139346057\n",
      "Cost after 78 iterations is : 0.49007976458778507\n",
      "Cost after 79 iterations is : 0.4881660164361053\n",
      "Cost after 80 iterations is : 0.48632415280079383\n",
      "Cost after 81 iterations is : 0.4845475271933297\n",
      "Cost after 82 iterations is : 0.48282894167002\n",
      "Cost after 83 iterations is : 0.48116522574328346\n",
      "Cost after 84 iterations is : 0.47954884852213486\n",
      "Cost after 85 iterations is : 0.47797810949520425\n",
      "Cost after 86 iterations is : 0.47644644326338254\n",
      "Cost after 87 iterations is : 0.4749526328985109\n",
      "Cost after 88 iterations is : 0.47349151128305794\n",
      "Cost after 89 iterations is : 0.47206197670002165\n",
      "Cost after 90 iterations is : 0.47066021368495864\n",
      "Cost after 91 iterations is : 0.4692851659197505\n",
      "Cost after 92 iterations is : 0.4679341226066391\n",
      "Cost after 93 iterations is : 0.4666061047391994\n",
      "Cost after 94 iterations is : 0.4652992214404748\n",
      "Cost after 95 iterations is : 0.464012610156082\n",
      "Cost after 96 iterations is : 0.4627449522067152\n",
      "Cost after 97 iterations is : 0.4614955174511104\n",
      "Cost after 98 iterations is : 0.46026337080462887\n",
      "Cost after 99 iterations is : 0.45904790764864184\n",
      "Cost after 100 iterations is : 0.4578484437756754\n",
      "Cost after 101 iterations is : 0.456664480262116\n",
      "Cost after 102 iterations is : 0.4554954949918191\n",
      "Cost after 103 iterations is : 0.4543410713468447\n",
      "Cost after 104 iterations is : 0.45320079188030354\n",
      "Cost after 105 iterations is : 0.4520743010630159\n",
      "Cost after 106 iterations is : 0.4509612498357445\n",
      "Cost after 107 iterations is : 0.4498613270473819\n",
      "Cost after 108 iterations is : 0.44877422947508955\n",
      "Cost after 109 iterations is : 0.4476996783237506\n",
      "Cost after 110 iterations is : 0.4466374023401743\n",
      "Cost after 111 iterations is : 0.4455871469421014\n",
      "Cost after 112 iterations is : 0.44454866435492313\n",
      "Cost after 113 iterations is : 0.44352171888919867\n",
      "Cost after 114 iterations is : 0.4425060810209144\n",
      "Cost after 115 iterations is : 0.44150153051914653\n",
      "Cost after 116 iterations is : 0.4405078528278312\n",
      "Cost after 117 iterations is : 0.4395248409249396\n",
      "Cost after 118 iterations is : 0.4385522930823151\n",
      "Cost after 119 iterations is : 0.4375900139504232\n",
      "Cost after 120 iterations is : 0.4366378131544754\n",
      "Cost after 121 iterations is : 0.43569550590045775\n",
      "Cost after 122 iterations is : 0.43476291208128315\n",
      "Cost after 123 iterations is : 0.43383985658817104\n",
      "Cost after 124 iterations is : 0.43292616872809087\n",
      "Cost after 125 iterations is : 0.4320216823567678\n",
      "Cost after 126 iterations is : 0.4311262354861426\n",
      "Cost after 127 iterations is : 0.4302396703122712\n",
      "Cost after 128 iterations is : 0.42936183293907776\n",
      "Cost after 129 iterations is : 0.42849257334671775\n",
      "Cost after 130 iterations is : 0.4276317451870667\n",
      "Cost after 131 iterations is : 0.4267792057203636\n",
      "Cost after 132 iterations is : 0.4259348156556637\n",
      "Cost after 133 iterations is : 0.42509843907232797\n",
      "Cost after 134 iterations is : 0.42426994328943596\n",
      "Cost after 135 iterations is : 0.4234491987817136\n",
      "Cost after 136 iterations is : 0.42263607906832984\n",
      "Cost after 137 iterations is : 0.42183046062861757\n",
      "Cost after 138 iterations is : 0.42103222280450836\n",
      "Cost after 139 iterations is : 0.42024124771887506\n",
      "Cost after 140 iterations is : 0.4194574201881116\n",
      "Cost after 141 iterations is : 0.4186806276444673\n",
      "Cost after 142 iterations is : 0.41791076005659783\n",
      "Cost after 143 iterations is : 0.417147709856437\n",
      "Cost after 144 iterations is : 0.41639137186631603\n",
      "Cost after 145 iterations is : 0.41564164323047353\n",
      "Cost after 146 iterations is : 0.41489842334779037\n",
      "Cost after 147 iterations is : 0.4141616138078103\n",
      "Cost after 148 iterations is : 0.41343111832840307\n",
      "Cost after 149 iterations is : 0.4127068426960611\n"
     ]
    }
   ],
   "source": [
    "epochs = 150\n",
    "L1 = 1000\n",
    "L2 = 1000\n",
    "learningRate = 0.1\n",
    "parameters, Cost = model(xTrain, yTrain, L1, L2, learningRate, epochs)"
   ]
  },
  {
   "cell_type": "code",
   "execution_count": 23,
   "id": "de2daad4-563e-438a-a6e1-ac944885b83d",
   "metadata": {},
   "outputs": [],
   "source": [
    "output = forwardPropagation(xDev, parameters)\n",
    "yDevPred = encoder.inverse_transform(output['a3'].T).T\n",
    "output = forwardPropagation(xTest, parameters)\n",
    "yTestPred = encoder.inverse_transform(output['a3'].T).T"
   ]
  },
  {
   "cell_type": "code",
   "execution_count": 24,
   "id": "e122aee9",
   "metadata": {},
   "outputs": [],
   "source": [
    "yDevAcc = accuracy_score(yDev.T, yDevPred.T)\n",
    "yTestAcc = accuracy_score(yTest.T, yTestPred.T)\n",
    "yDevPrecision = precision_score(yDev.T, yDevPred.T,average='weighted')\n",
    "yTestPrecision = precision_score(yTest.T, yTestPred.T,average='weighted')\n",
    "yDevRecall = recall_score(yDev.T, yDevPred.T,average='weighted')\n",
    "yTestRecall = recall_score(yTest.T, yTestPred.T,average='weighted')\n",
    "yDevf1 = f1_score(yDev.T, yDevPred.T,average='weighted')\n",
    "yTestf1 = f1_score(yTest.T, yTestPred.T,average='weighted')"
   ]
  },
  {
   "cell_type": "code",
   "execution_count": 25,
   "id": "fd2c46be-0035-4deb-8eac-570e8038d371",
   "metadata": {},
   "outputs": [
    {
     "name": "stdout",
     "output_type": "stream",
     "text": [
      "Dev Accuracy: 0.911\n",
      "Dev Precision: 0.9109351027205442\n",
      "Dev Recall: 0.911\n",
      "Dev F1 Score: 0.910848761232162\n"
     ]
    }
   ],
   "source": [
    "print(\"Dev Accuracy:\", yDevAcc)\n",
    "print(\"Dev Precision:\", yDevPrecision)\n",
    "print(\"Dev Recall:\", yDevRecall)\n",
    "print(\"Dev F1 Score:\", yDevf1)"
   ]
  },
  {
   "cell_type": "code",
   "execution_count": 26,
   "id": "a5a114c8-fa72-47c7-9197-d2a1465e4c0f",
   "metadata": {},
   "outputs": [
    {
     "name": "stdout",
     "output_type": "stream",
     "text": [
      "Test Accuracy: 0.9118\n",
      "Test Precision: 0.9119067557825219\n",
      "Test Recall: 0.9118\n",
      "Test F1 Score: 0.911709909594875\n"
     ]
    }
   ],
   "source": [
    "print(\"Test Accuracy:\", yTestAcc)\n",
    "print(\"Test Precision:\", yTestPrecision)\n",
    "print(\"Test Recall:\", yTestRecall)\n",
    "print(\"Test F1 Score:\", yTestf1)"
   ]
  },
  {
   "cell_type": "code",
   "execution_count": 28,
   "id": "b4222d28-56bb-451f-bbca-10d42e777dec",
   "metadata": {},
   "outputs": [
    {
     "data": {
      "text/plain": [
       "[<matplotlib.lines.Line2D at 0x7fdf17763a90>]"
      ]
     },
     "execution_count": 28,
     "metadata": {},
     "output_type": "execute_result"
    },
    {
     "data": {
      "image/png": "[encoded data removed]",
      "text/plain": [
       "<Figure size 640x480 with 1 Axes>"
      ]
     },
     "metadata": {},
     "output_type": "display_data"
    }
   ],
   "source": [
    "plt.plot(Cost)"
   ]
  },
  {
   "cell_type": "code",
   "execution_count": null,
   "id": "5382ee7e-4f2e-45eb-b30f-d49fa10f4f21",
   "metadata": {},
   "outputs": [],
   "source": []
  }
 ],
 "metadata": {
  "kernelspec": {
   "display_name": "Python 3 (ipykernel)",
   "language": "python",
   "name": "python3"
  },
  "language_info": {
   "codemirror_mode": {
    "name": "ipython",
    "version": 3
   },
   "file_extension": ".py",
   "mimetype": "text/x-python",
   "name": "python",
   "nbconvert_exporter": "python",
   "pygments_lexer": "ipython3",
   "version": "3.8.10"
  }
 },
 "nbformat": 4,
 "nbformat_minor": 5
}
